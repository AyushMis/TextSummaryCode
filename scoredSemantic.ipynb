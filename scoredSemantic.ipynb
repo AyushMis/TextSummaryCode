{
 "cells": [
  {
   "cell_type": "code",
   "execution_count": null,
   "metadata": {},
   "outputs": [],
   "source": [
    "from nltk.stem.wordnet import WordNetLemmatizer\n",
    "from nltk.tokenize import word_tokenize\n",
    "from nltk.corpus import stopwords\n",
    "from collections import Counter\n",
    "import nbimporter\n",
    "import Utilities as utility\n",
    "from tqdm import tqdm\n",
    "import collections\n",
    "import imp\n",
    "import warnings\n",
    "import numpy as np\n",
    "import nltk\n",
    "import math\n",
    "import sys\n",
    "warnings.filterwarnings(\"ignore\")\n",
    "import gensim"
   ]
  },
  {
   "cell_type": "code",
   "execution_count": null,
   "metadata": {},
   "outputs": [],
   "source": [
    "sentence_distance = utility.loadObj('sentence_distance')"
   ]
  },
  {
   "cell_type": "code",
   "execution_count": null,
   "metadata": {},
   "outputs": [],
   "source": [
    "clean_sentences = utility.loadObj('clean_semantic_sentences')"
   ]
  },
  {
   "cell_type": "code",
   "execution_count": null,
   "metadata": {},
   "outputs": [],
   "source": [
    "scored_sentences = utility.loadObj('RakeSentencesScore')"
   ]
  },
  {
   "cell_type": "code",
   "execution_count": null,
   "metadata": {},
   "outputs": [],
   "source": [
    "average_sentence_distance = 0\n",
    "original_sequence = {}\n",
    "for i in range(len(scored_sentences)):\n",
    "    temp = 0.0\n",
    "    for j in range(len(scored_sentences)):\n",
    "        score_temp = scored_sentences[j][0]*sentence_distance[i][j]\n",
    "        temp = temp + score_temp\n",
    "    average_sentence_distance = temp/len(sentence_distance)\n",
    "    original_sequence[i] = average_sentence_distance"
   ]
  },
  {
   "cell_type": "code",
   "execution_count": null,
   "metadata": {},
   "outputs": [],
   "source": [
    "ordered_dic = collections.OrderedDict(sorted(original_sequence.items(), key=lambda x: x[1]))"
   ]
  },
  {
   "cell_type": "code",
   "execution_count": null,
   "metadata": {},
   "outputs": [],
   "source": [
    "compression_ratio = int(input('Enter the compression ratio: '))\n",
    "num_of_sentences = (compression_ratio*len(original_sequence))//100"
   ]
  },
  {
   "cell_type": "code",
   "execution_count": null,
   "metadata": {},
   "outputs": [],
   "source": [
    "summary = []\n",
    "i = 1\n",
    "for index in ordered_dic:\n",
    "    summary.append(clean_sentences[index])\n",
    "    if i == num_of_sentences:\n",
    "        break\n",
    "    i += 1\n",
    "summary = ' '.join(summary)\n",
    "utility.saveObj(summary,'WeightedWmdSummary')"
   ]
  }
 ],
 "metadata": {
  "kernelspec": {
   "display_name": "Python 3",
   "language": "python",
   "name": "python3"
  },
  "language_info": {
   "codemirror_mode": {
    "name": "ipython",
    "version": 3
   },
   "file_extension": ".py",
   "mimetype": "text/x-python",
   "name": "python",
   "nbconvert_exporter": "python",
   "pygments_lexer": "ipython3",
   "version": "3.5.2"
  }
 },
 "nbformat": 4,
 "nbformat_minor": 2
}
