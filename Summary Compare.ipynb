{
 "cells": [
  {
   "cell_type": "code",
   "execution_count": 18,
   "metadata": {},
   "outputs": [],
   "source": [
    "from pdfminer.pdfinterp import PDFResourceManager, PDFPageInterpreter\n",
    "from nltk.stem.wordnet import WordNetLemmatizer\n",
    "from pdfminer.converter import TextConverter\n",
    "from nltk.tokenize import word_tokenize\n",
    "from pdfminer.layout import LAParams\n",
    "#from pdfminer.pdfpage import PDFPage\n",
    "from nltk.corpus import stopwords\n",
    "from collections import Counter\n",
    "from io import StringIO\n",
    "import nbimporter\n",
    "import Utilities as utility\n",
    "import collections\n",
    "import warnings\n",
    "import pickle\n",
    "import nltk\n",
    "warnings.filterwarnings(\"ignore\")"
   ]
  },
  {
   "cell_type": "code",
   "execution_count": 19,
   "metadata": {},
   "outputs": [
    {
     "name": "stdout",
     "output_type": "stream",
     "text": [
      "[\"\\n i can't tell what positives it offers still, but it's still a nifty upgrade with a lot of nifty features over xp that make for a more fun experience for some, and a more organized experience involving navigating huge catacombs of archives and files \", '\\n  perhaps my expectations were low, since microsoft oses tend usually to be just functional   without much pizazz or many  power user  shortcuts and features, but windows 7 really is a well, crafted os ', \"\\n  also there are some other new things such as touch gesture features and disk encryption that normal users won't use either because it isn't needed or the hardware isn't widely adopted yet   \", '\\n  removing a  feature  from the programs and features panel simply disables access to it, but the underlying program files associated with that feature remain on the hard, drive taking up space ', \"\\n  did i mention that win7 offers nothing in terms of any new worthwhile features ?\\n 0 out of 5 stars xp speed & stability, vista, like features without the headaches !\\n  i really wanted to like vista with all it's cool new features, but unfortunately it was a disaster because it just didn't work \", '\\n does the new operating system have cool features ?\\n  my only complaint would be that i would like to have a family pack available in the windows professional flavor or at least the option to purchase some of the professional features separately ', \"\\n  and i love all the new aero shake peek snap windows features, but i still prefer mac os x's expose \", \"\\n  windows 7 ultimate is there too off course, but i personally can't bring myself to spend that much more money just to get a tiny few features that i know i will never use like multi, language support and bitlocker \", \"\\n ,  new features with better window and file managment\\n ,  many features are copied from mac os x\\n  of course there are some new features, and a little more eye candy if that's important to you too \", '\\n  personally i thought vista was very handsome, what with its transparency, 3, d effects, color schemes, and usability improvements to windows explorer, and i believe windows 7 continues that trend by looking just as sexy , ,  if not more , ,  while at the same time adding its own valuable features and enhancements ', '\\n  i also noticed improved power management, including once of my favorite features which is the auto dimming of my laptop monitors once my computer is not being used ', '\\n ,  better user interface features like being able to view the desktop with one mouse gesture to the bottom right of the screen ', \"\\n  w7 is fast and resource friendly, every hardware device works perfect  , and there's a ton of great features \", \"\\n if you're used to os x, but want to come into the pc world where things cost less and you get more features, by all means consider windows 7 the stepping stone to do just that \", '\\n  a lot of the new finder desktop windows features are awkward working versions of what mac os x has had for a couple of years or more ', '\\n  but that aside, i like the availability of software, the new features like the improved taskbar, windows peek, and the aero environment ', \"\\n  if you didn't come over from the bright side you would probably think these features are very cool, so enjoy them for what they are if you've never played around with a mac enough to be comfortable in that environment \", \"\\n  this review briefly touches upon some of the key features and enhancements of microsoft's latest os \", \"\\n  i think the reason it didn't is because it wants to force the user to use the windows live toolbar that includes other features similar to what google offers \", \"\\n  i haven't yet become accustomed to some features like aero shake, but hey, those things are there if i need them \", \"\\n  nice upgrade and love some of the new features, snip tool, sticky's on the desktop, docking on the task bar and thanks for clearing the clutter on the tray \", '\\n having used windows me and xp for several years, and before upgrading, vista, i heard a lot of great things about windows 7, as well as new features ']\n"
     ]
    }
   ],
   "source": [
    "summary = utility.loadObj('RakeSummary')\n",
    "print(summary)\n",
    "summary = ','.join(summary)"
   ]
  },
  {
   "cell_type": "code",
   "execution_count": 15,
   "metadata": {},
   "outputs": [],
   "source": [
    "human_summary = 'This paper addresses the prediction of epileptic seizures from the online analysis of EEG data. This problem is of paramount importance for the realization of monitoring/control units to be implanted on drug-resistant epileptic patients. The pro- posed solution relies in a novel way on autoregressive modeling of the EEG time series and combines a least-squares parameter estima- tor for EEG feature extraction along with a support vector machine (SVM) for binary classification between preictal/ictal and interictal states. This choice is characterized by low computational require- ments compatible with a real-time implementation of the overall system. Moreover, experimental results on the Freiburg dataset ex- hibited correct prediction of all seizures (100% sensitivity) and, due to a novel regularization of the SVM classifier based on the Kalman filter, also a low false alarm rate.'\n",
    "human_summary = human_summary.lower()"
   ]
  },
  {
   "cell_type": "code",
   "execution_count": 16,
   "metadata": {},
   "outputs": [],
   "source": [
    "summaryBigram = utility.findGrams(summary, 2)\n",
    "humanBigram = utility.findGrams(human_summary, 2)\n",
    "count = 0\n",
    "for element in humanBigram:\n",
    "    if element in summaryBigram:\n",
    "        count+=1"
   ]
  },
  {
   "cell_type": "code",
   "execution_count": 12,
   "metadata": {},
   "outputs": [
    {
     "name": "stdout",
     "output_type": "stream",
     "text": [
      "0.06870229007633588\n"
     ]
    }
   ],
   "source": [
    "result = count/len(humanBigram)\n",
    "print(result)"
   ]
  },
  {
   "cell_type": "code",
   "execution_count": null,
   "metadata": {},
   "outputs": [],
   "source": []
  },
  {
   "cell_type": "code",
   "execution_count": null,
   "metadata": {},
   "outputs": [],
   "source": []
  }
 ],
 "metadata": {
  "kernelspec": {
   "display_name": "Python 3",
   "language": "python",
   "name": "python3"
  },
  "language_info": {
   "codemirror_mode": {
    "name": "ipython",
    "version": 3
   },
   "file_extension": ".py",
   "mimetype": "text/x-python",
   "name": "python",
   "nbconvert_exporter": "python",
   "pygments_lexer": "ipython3",
   "version": "3.5.2"
  }
 },
 "nbformat": 4,
 "nbformat_minor": 2
}
