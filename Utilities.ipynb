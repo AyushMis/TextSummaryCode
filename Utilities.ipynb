{
 "cells": [
  {
   "cell_type": "code",
   "execution_count": 1,
   "metadata": {
    "collapsed": true
   },
   "outputs": [],
   "source": [
    "from pdfminer.pdfinterp import PDFResourceManager, PDFPageInterpreter\n",
    "from nltk.stem.wordnet import WordNetLemmatizer\n",
    "from pdfminer.converter import TextConverter\n",
    "from nltk.tokenize import word_tokenize\n",
    "from pdfminer.layout import LAParams\n",
    "from pdfminer.pdfpage import PDFPage\n",
    "from nltk.corpus import stopwords\n",
    "from collections import Counter\n",
    "from cStringIO import StringIO\n",
    "import collections\n",
    "import warnings\n",
    "import pickle\n",
    "import nltk\n",
    "warnings.filterwarnings(\"ignore\")"
   ]
  },
  {
   "cell_type": "code",
   "execution_count": 2,
   "metadata": {
    "collapsed": true
   },
   "outputs": [],
   "source": [
    "def pdfToTxt(path):\n",
    "    rsrcmgr = PDFResourceManager()\n",
    "    retstr = StringIO()\n",
    "    codec = 'utf-8'\n",
    "    laparams = LAParams()\n",
    "    device = TextConverter(rsrcmgr, retstr, codec=codec, laparams=laparams)\n",
    "    fp = file(path, 'rb')\n",
    "    interpreter = PDFPageInterpreter(rsrcmgr, device)\n",
    "    password = \"\"\n",
    "    maxpages = 0\n",
    "    caching = True\n",
    "    pagenos=set()\n",
    "\n",
    "    for page in PDFPage.get_pages(fp, pagenos, maxpages=maxpages, password=password,caching=caching, check_extractable=True):\n",
    "        interpreter.process_page(page)\n",
    "\n",
    "    text = retstr.getvalue()\n",
    "\n",
    "    fp.close()\n",
    "    device.close()\n",
    "    retstr.close()\n",
    "    return text"
   ]
  },
  {
   "cell_type": "code",
   "execution_count": 3,
   "metadata": {
    "collapsed": true
   },
   "outputs": [],
   "source": [
    "def removeStopWordsLemmatize(text):\n",
    "    stop_words = set(stopwords.words('english'))\n",
    "    to_remove = ['\\n','&', '(', ')','.','\\x80', '\\x93', '\\x96', '\\x9c', \n",
    "             '\\x9e', '\\x9f', '\\xa4', '\\xb6', '\\xbc', '\\xc3', '\\xe2','$',\n",
    "             ':', ';', '?','~', '\\x81', '\\x82', '\\x83', '\\x84', '\\x86',\n",
    "             '\\x87', '\\x88', '\\x89', '\\x8b', '\\x8c', '\\x90', '\\x91', '\\x92',\n",
    "             '\\x94', '\\x97', '\\x98', '\\x99', '\\x9b', '\\x9d', '\\xa0', '\\xa1',\n",
    "             '\\xa2', '\\xa3', '\\xa5', '\\xa6', '\\xa7', '\\xa8', '\\xa9', '\\xaa',\n",
    "             '\\xab', '\\xac', '\\xad', '\\xae', '\\xaf', '\\xb0', '\\xb1', '\\xb2',\n",
    "             '\\xb3', '\\xb4', '\\xb5', '\\xb7', '\\xb8', '\\xb9', '\\xba', '\\xbb'\n",
    "             , '\\xbd', '\\xbe', '\\xbf', '\\xc2', '\\xc4', '\\xc5', '\\xc9', '\\xcb',\n",
    "             '\\xce', '\\xcf', '\\xd0', '\\xe1', '\\xef', '=', '\\\\', '^', '!', '#',\n",
    "             '%', '+', ',', '-', '/','\\x8a', '\\x9a', '\\xca','\"','{','}','|',\"'\",\"  \",'would']\n",
    "    stop_words.update(to_remove)\n",
    "    word_tokens = word_tokenize(text)\n",
    "    filtered_sentence = [w for w in word_tokens if w not in stop_words]\n",
    "    lemmatizer = WordNetLemmatizer()\n",
    "    lem = [lemmatizer.lemmatize(t) for t in filtered_sentence]\n",
    "    return lem"
   ]
  },
  {
   "cell_type": "code",
   "execution_count": 4,
   "metadata": {
    "collapsed": true
   },
   "outputs": [],
   "source": [
    "def saveObj(obj, name ):\n",
    "    with open('objects/'+ name + '.pkl', 'wb') as f:\n",
    "        pickle.dump(obj, f, pickle.HIGHEST_PROTOCOL)"
   ]
  },
  {
   "cell_type": "code",
   "execution_count": 5,
   "metadata": {
    "collapsed": true
   },
   "outputs": [],
   "source": [
    "def loadObj(name):\n",
    "    with open('objects/' + name + '.pkl', 'rb') as f:\n",
    "        return pickle.load(f)"
   ]
  },
  {
   "cell_type": "code",
   "execution_count": 6,
   "metadata": {
    "collapsed": true
   },
   "outputs": [],
   "source": [
    "def createSentences(text):\n",
    "    stri = StringIO(str(text.encode('utf-8')))\n",
    "    sentences = []\n",
    "    while True:\n",
    "        nl = stri.readline()\n",
    "        if nl != '':\n",
    "            sentences.append(nl)\n",
    "        else:\n",
    "            break\n",
    "    return sentences"
   ]
  },
  {
   "cell_type": "code",
   "execution_count": 7,
   "metadata": {
    "collapsed": true
   },
   "outputs": [],
   "source": [
    "def getSentenceScore(sentences, word_rank):\n",
    "    d = {}\n",
    "    sentence_score = 0\n",
    "    c = 0\n",
    "    for sentence in sentences:\n",
    "        sentence_score = 0\n",
    "        for word in sentence:\n",
    "            if word in word_rank:\n",
    "                sentence_score += len(word_rank) - word_rank.index(word)\n",
    "        d[c] = sentence_score\n",
    "        c += 1\n",
    "    return d"
   ]
  },
  {
   "cell_type": "code",
   "execution_count": 8,
   "metadata": {
    "collapsed": true
   },
   "outputs": [],
   "source": [
    "def getSummery(compression_ratio,ordered_dic,sentences):\n",
    "    sentencesToInclude = (compression_ratio*len(sentences))//100\n",
    "    compressed = list()\n",
    "    counter = 1\n",
    "    for i in ordered_dic:\n",
    "        compressed.append(sentences[i])\n",
    "        if counter == sentencesToInclude:\n",
    "            break\n",
    "        counter+=1\n",
    "    return compressed"
   ]
  }
 ],
 "metadata": {
  "kernelspec": {
   "display_name": "Python 2",
   "language": "python",
   "name": "python2"
  },
  "language_info": {
   "codemirror_mode": {
    "name": "ipython",
    "version": 2
   },
   "file_extension": ".py",
   "mimetype": "text/x-python",
   "name": "python",
   "nbconvert_exporter": "python",
   "pygments_lexer": "ipython2",
   "version": "2.7.13"
  }
 },
 "nbformat": 4,
 "nbformat_minor": 2
}
