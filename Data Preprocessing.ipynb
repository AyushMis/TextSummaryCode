{
 "cells": [
  {
   "cell_type": "code",
   "execution_count": 11,
   "metadata": {
    "collapsed": true
   },
   "outputs": [],
   "source": [
    "from pdfminer.pdfinterp import PDFResourceManager, PDFPageInterpreter\n",
    "from nltk.stem.wordnet import WordNetLemmatizer\n",
    "from pdfminer.converter import TextConverter\n",
    "from nltk.tokenize import word_tokenize\n",
    "from pdfminer.layout import LAParams\n",
    "from pdfminer.pdfpage import PDFPage\n",
    "from nltk.corpus import stopwords\n",
    "from collections import Counter\n",
    "from cStringIO import StringIO\n",
    "import nbimporter\n",
    "import Utilities as utility\n",
    "import collections\n",
    "import warnings\n",
    "import pickle\n",
    "import nltk\n",
    "warnings.filterwarnings(\"ignore\")"
   ]
  },
  {
   "cell_type": "code",
   "execution_count": 12,
   "metadata": {
    "collapsed": true
   },
   "outputs": [],
   "source": [
    "text = utility.pdfToTxt('../dataset/test.pdf').lower().decode('utf-8')"
   ]
  },
  {
   "cell_type": "code",
   "execution_count": 13,
   "metadata": {
    "collapsed": true
   },
   "outputs": [],
   "source": [
    "sentences = utility.createSentences(text)"
   ]
  },
  {
   "cell_type": "code",
   "execution_count": 14,
   "metadata": {
    "collapsed": true
   },
   "outputs": [],
   "source": [
    "for i in range(0,len(sentences)):\n",
    "    sentences[i] = utility.removeStopWordsLemmatize(sentences[i].decode('utf-8'))"
   ]
  },
  {
   "cell_type": "code",
   "execution_count": 15,
   "metadata": {
    "collapsed": true
   },
   "outputs": [],
   "source": [
    "text = utility.removeStopWordsLemmatize(text)"
   ]
  },
  {
   "cell_type": "code",
   "execution_count": 16,
   "metadata": {
    "collapsed": true
   },
   "outputs": [],
   "source": [
    "counts = dict(Counter(text))\n",
    "ordered_dic = collections.OrderedDict(sorted(counts.items(), key=lambda x: x[1], reverse=True ))\n",
    "rank = ordered_dic.keys()"
   ]
  },
  {
   "cell_type": "code",
   "execution_count": 17,
   "metadata": {
    "collapsed": true
   },
   "outputs": [],
   "source": [
    "utility.saveObj(sentences,'sentences')\n",
    "utility.saveObj(text,'text')\n",
    "utility.saveObj(ordered_dic,'vocab')\n",
    "utility.saveObj(rank,'words_rank')"
   ]
  },
  {
   "cell_type": "code",
   "execution_count": null,
   "metadata": {
    "collapsed": true
   },
   "outputs": [],
   "source": []
  }
 ],
 "metadata": {
  "kernelspec": {
   "display_name": "Python 2",
   "language": "python",
   "name": "python2"
  },
  "language_info": {
   "codemirror_mode": {
    "name": "ipython",
    "version": 2
   },
   "file_extension": ".py",
   "mimetype": "text/x-python",
   "name": "python",
   "nbconvert_exporter": "python",
   "pygments_lexer": "ipython2",
   "version": "2.7.13"
  }
 },
 "nbformat": 4,
 "nbformat_minor": 2
}
